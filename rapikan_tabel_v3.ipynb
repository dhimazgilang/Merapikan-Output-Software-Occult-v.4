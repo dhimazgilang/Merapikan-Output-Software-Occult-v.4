{
 "cells": [
  {
   "cell_type": "markdown",
   "metadata": {},
   "source": [
    "## Merapikan tabel file output dari software perencanaan event okultasi [Nama Softwarenya?]"
   ]
  },
  {
   "cell_type": "markdown",
   "metadata": {},
   "source": [
    "### Import Modul yang dibutuhkan"
   ]
  },
  {
   "cell_type": "code",
   "execution_count": 1,
   "metadata": {},
   "outputs": [],
   "source": [
    "import pandas as pd\n",
    "import os\n",
    "import glob"
   ]
  },
  {
   "cell_type": "markdown",
   "metadata": {},
   "source": [
    "### Input user tentang file input dan baris pertama header"
   ]
  },
  {
   "cell_type": "code",
   "execution_count": 2,
   "metadata": {},
   "outputs": [],
   "source": [
    "file_input       = 'LO-Mar-May2022.txt'\n",
    "header_line     = 3 "
   ]
  },
  {
   "cell_type": "markdown",
   "metadata": {},
   "source": [
    "###  Buat file output.txt yang berisi tabel referensi"
   ]
  },
  {
   "cell_type": "code",
   "execution_count": 3,
   "metadata": {},
   "outputs": [],
   "source": [
    "file = open(file_input,'r')\n",
    "data_in = file.readlines()\n",
    "\n",
    "file_out = open('tabel_output.txt','w')\n",
    "file_out.write(data_in[header_line])\n",
    "file_out.write(data_in[header_line+1])\n",
    "\n",
    "\n",
    "for line in data_in[header_line:]:\n",
    "\tif line[0] != ' ':\n",
    "\t\tfile_out.write(line)\n",
    "\n",
    "file_out.close()"
   ]
  },
  {
   "cell_type": "markdown",
   "metadata": {},
   "source": [
    "###  Membuat header baru gabungan header baris 1 dan baris 2 "
   ]
  },
  {
   "cell_type": "code",
   "execution_count": 4,
   "metadata": {},
   "outputs": [],
   "source": [
    "def merger_title_n_subs(title,sub):\n",
    "    n = len(sub)\n",
    "    for a,b in zip([title]*len(sub),sub):\n",
    "        header_labels_final.append(a+'_'+b)\n",
    "\n",
    "def add_header(n1, n2):\n",
    "    if str(n1) != '0' and str(n2) != '0':\n",
    "        header_labels_final.append(header_labels1[n1]+'_'+header_labels2[n2])\n",
    "    elif str(n2) == '0':\n",
    "        header_labels_final.append(header_labels1[n1])\n",
    "    elif str(n1) == '0':\n",
    "        header_labels_final.append(header_labels2[n2])\n",
    "\n",
    "def cons_add_header(n1, n2 , loops_num):\n",
    "    for i in range(loops_num):\n",
    "        header_labels_final.append(header_labels1[n1]+'_'+header_labels2[n2])\n",
    "        n1,n2 = n1+1, n2+1\n",
    "    \n",
    "        "
   ]
  },
  {
   "cell_type": "code",
   "execution_count": 5,
   "metadata": {},
   "outputs": [
    {
     "name": "stdout",
     "output_type": "stream",
     "text": [
      "['day_y', 'day_m', 'day_d', 'Time_h', 'Time_m', 'Time_s', 'P', 'Star_No', 'Sp_D', 'Mag_v', 'Mag_r', 'V', '%_ill', 'Elon', 'Sun_Alt', 'Moon_Alt', 'Moon_Az', 'CA_o', 'PA_o', 'VA_o', 'AA_o', 'Libration_L', 'Libration_B', 'A_m/o', 'B_m/o', 'RV_\"/s', 'Cct_o', 'durn_sec', 'R.A._h', 'R.A._m', 'R.A._s', 'Dec_o', 'Dec_m', 'Dec_s', 'Mdist_Mm', 'SV_m/s']\n"
     ]
    }
   ],
   "source": [
    "header_labels1 = data_in[header_line].split()\n",
    "header_labels2 = data_in[header_line+1].split()\n",
    "header_labels_final = []\n",
    "\n",
    "merger_title_n_subs(header_labels1[0],header_labels2[:3])\n",
    "merger_title_n_subs(header_labels1[1],header_labels2[3:6] )\n",
    "add_header(2,0)\n",
    "cons_add_header(3,6,4)\n",
    "add_header(0,10)\n",
    "add_header(7,11)\n",
    "add_header(8,0)\n",
    "add_header(9,12)\n",
    "merger_title_n_subs(header_labels1[10],header_labels2[13:15])\n",
    "cons_add_header(11,15,4)\n",
    "merger_title_n_subs(header_labels1[15],header_labels2[19:21])\n",
    "cons_add_header(16,21,5)\n",
    "merger_title_n_subs(header_labels1[21],header_labels2[26:29])\n",
    "del(header_labels1[21])\n",
    "merger_title_n_subs(header_labels1[22],header_labels2[29:32])\n",
    "cons_add_header(23,32,2)\n",
    "\n",
    "print(header_labels_final)"
   ]
  },
  {
   "cell_type": "markdown",
   "metadata": {},
   "source": [
    "### Membuat dictionary dan menjadikan label kolom sebagai keys dari dictionary"
   ]
  },
  {
   "cell_type": "code",
   "execution_count": 6,
   "metadata": {},
   "outputs": [
    {
     "name": "stdout",
     "output_type": "stream",
     "text": [
      "{'day_y': [], 'day_m': [], 'day_d': [], 'Time_h': [], 'Time_m': [], 'Time_s': [], 'P': [], 'Star_No': [], 'Sp_D': [], 'Mag_v': [], 'Mag_r': [], 'V': [], '%_ill': [], 'Elon': [], 'Sun_Alt': [], 'Moon_Alt': [], 'Moon_Az': [], 'CA_o': [], 'PA_o': [], 'VA_o': [], 'AA_o': [], 'Libration_L': [], 'Libration_B': [], 'A_m/o': [], 'B_m/o': [], 'RV_\"/s': [], 'Cct_o': [], 'durn_sec': [], 'R.A._h': [], 'R.A._m': [], 'R.A._s': [], 'Dec_o': [], 'Dec_m': [], 'Dec_s': [], 'Mdist_Mm': [], 'SV_m/s': []}\n"
     ]
    }
   ],
   "source": [
    "hasil_tabel = {}\n",
    "for label in header_labels_final: hasil_tabel[label] = []\n",
    "    \n",
    "print(hasil_tabel)"
   ]
  },
  {
   "cell_type": "markdown",
   "metadata": {},
   "source": [
    "### Memisahkan baris data dan baris catatan khusus"
   ]
  },
  {
   "cell_type": "code",
   "execution_count": 9,
   "metadata": {},
   "outputs": [
    {
     "name": "stdout",
     "output_type": "stream",
     "text": [
      "22 Mar  5 11 48 46.2 D  109722SG5  8.9  8.6    8+  34 -11 19 278  84S  78 339  99 +4.7 +3.4 +0.8+0.7 .439  -16.7      1 11 53.7   4 52 43 385.5 856.1\n",
      "\n",
      "22 Mar  5 11 57 52.6 d  109724 F8  9.6  9.4    8+  34     17 277  85S  77 338  98 +4.7 +3.4 +0.7+0.7 .449  -15.0      1 12  8.0   4 54 58 385.8 870.6\n",
      "\n",
      "22 Mar  5 12 56 58.9 d  109743 F8  7.7  7.4    9+  34      3 276  87S  74 337  95 +4.6 +3.4 +0.2+0.7 .510   -9.2      1 13 51.6   5  8 31 387.6 970.1\n",
      "\n",
      "22 Mar  6 12 51 49.8 D     293 G5  7.6  7.1   15+  46     14 283  78S  83 343 102 +4.2 +2.1 +0.6+0.5 .432  -16.1      2  0 22.7  10 37 48 391.1 853.3\n",
      "\n",
      "22 Mar  6 13 24 50.3 d   92752 K0  8.8  8.2   15+  46      6 282  74N  55 317  74 +4.2 +2.1 +0.4+1.4 .466   13.3      2  1  9.9  10 50 23 392.1 910.5\n",
      "\n"
     ]
    }
   ],
   "source": [
    "data_lines = []\n",
    "\n",
    "for line in data_in[header_line:]:\n",
    "\tif line[0] != ' ':\n",
    "\t\tdata_lines.append(line)\n",
    "\n",
    "for i in range(5):\n",
    "    print(data_lines[i])"
   ]
  },
  {
   "cell_type": "markdown",
   "metadata": {},
   "source": [
    "### Mengisi kolom tabel data dengan tabel file input, dengan memisahkan baris note ke kolom baru"
   ]
  },
  {
   "cell_type": "markdown",
   "metadata": {},
   "source": [
    "<p>Setiap kolom pada Tabel file output memiliki 'jatah' lebar dalam satuan banyaknya karakter. <br>\n",
    "Contohnya: kolom 1 ('day_y') memiliki lebar 2 karakter.<br>\n",
    "lebar karakter ini yang ditentukan secara manual dan disimpan dalam bentuk list dalam var 'col_space'.</p>"
   ]
  },
  {
   "cell_type": "code",
   "execution_count": 12,
   "metadata": {},
   "outputs": [],
   "source": [
    "hasil_tabel = {}\n",
    "for label in header_labels_final: hasil_tabel[label] = []\n",
    "\n",
    "col_space = [3,4,3,3,3,4,3,7,4,5,4,3,3,4,4,3,4,5,4,4,4,\\\n",
    "            5,5,5,5,5,6,4,3,3,5,4,3,3,6,6]\n",
    "\n",
    "\n",
    "nama_label = {}\n",
    "for a,b in zip(header_labels_final[:len(col_space)],col_space):\n",
    "    nama_label[a] = b\n",
    "\n",
    "NOTES  = []\n",
    "i_note = 0\n",
    "is_data_line =False\n",
    "\n",
    "for line in data_in[header_line+2:]:\n",
    "    \n",
    "    if line[0] != ' ':\n",
    "        start = 0\n",
    "        n = 0\n",
    "        #print(i_note,line[0], 'data!',line)\n",
    "        for ind in col_space: \n",
    "            hasil_tabel[header_labels_final[n]].append(line[start:start+ind])\n",
    "            start = start + ind\n",
    "            n = n + 1\n",
    "        \n",
    "        if is_data_line == True:\n",
    "            NOTES.append(' ')\n",
    "        if is_data_line == False:\n",
    "            pass\n",
    "            \n",
    "        i_note = i_note + 1\n",
    "        is_data_line = True\n",
    "            \n",
    "    else:\n",
    "        #print(i_note,line[0],'notes!',line)\n",
    "        if is_data_line == True:\n",
    "            NOTES.append(line[:-1])\n",
    "        elif is_data_line == False:\n",
    "            NOTES[-1] = NOTES[-1] +' ; ' + line[:-1]\n",
    "        is_data_line = False\n",
    "\n",
    "hasil_tabel['NOTES'] = NOTES\n"
   ]
  },
  {
   "cell_type": "code",
   "execution_count": 11,
   "metadata": {},
   "outputs": [
    {
     "name": "stdout",
     "output_type": "stream",
     "text": [
      "165\n",
      "165\n"
     ]
    }
   ],
   "source": [
    "print(len(NOTES))\n",
    "print(len(hasil_tabel['day_d']))"
   ]
  },
  {
   "cell_type": "markdown",
   "metadata": {},
   "source": [
    "### Ubah dictionary ke dataframe pandas"
   ]
  },
  {
   "cell_type": "code",
   "execution_count": 13,
   "metadata": {},
   "outputs": [],
   "source": [
    "hasil_tabel = pd.DataFrame(hasil_tabel)"
   ]
  },
  {
   "cell_type": "markdown",
   "metadata": {},
   "source": [
    "### Buat dan simpan dataframe ke file excel"
   ]
  },
  {
   "cell_type": "markdown",
   "metadata": {},
   "source": [
    "#### membuat nama file .xlsx output"
   ]
  },
  {
   "cell_type": "code",
   "execution_count": 14,
   "metadata": {},
   "outputs": [],
   "source": [
    "nama_file = 'Tabel output_'+file_input.split('.')[0]+'.xlsx'"
   ]
  },
  {
   "cell_type": "markdown",
   "metadata": {},
   "source": [
    "#### menghapus file yang bernama sama dengan file .xlsx output, jika sudah ada sebelumnya"
   ]
  },
  {
   "cell_type": "markdown",
   "metadata": {},
   "source": [
    "Jika file yang bernama sama dengan file .xlsx output ada, harap ditutup terlebih dahulu agar python bisa menghapusnya"
   ]
  },
  {
   "cell_type": "code",
   "execution_count": 16,
   "metadata": {},
   "outputs": [],
   "source": [
    "if len(glob.glob(nama_file)) != 0:\n",
    "    os.remove(nama_file)"
   ]
  },
  {
   "cell_type": "markdown",
   "metadata": {},
   "source": [
    "#### simpan dataframe ke dalam file .xlsx"
   ]
  },
  {
   "cell_type": "code",
   "execution_count": 17,
   "metadata": {},
   "outputs": [],
   "source": [
    "file_excel = pd.ExcelWriter(nama_file)\n",
    "hasil_tabel.to_excel(file_excel)\n",
    "file_excel.save()"
   ]
  }
 ],
 "metadata": {
  "kernelspec": {
   "display_name": "Python 3",
   "language": "python",
   "name": "python3"
  },
  "language_info": {
   "codemirror_mode": {
    "name": "ipython",
    "version": 3
   },
   "file_extension": ".py",
   "mimetype": "text/x-python",
   "name": "python",
   "nbconvert_exporter": "python",
   "pygments_lexer": "ipython3",
   "version": "3.7.3"
  }
 },
 "nbformat": 4,
 "nbformat_minor": 2
}
